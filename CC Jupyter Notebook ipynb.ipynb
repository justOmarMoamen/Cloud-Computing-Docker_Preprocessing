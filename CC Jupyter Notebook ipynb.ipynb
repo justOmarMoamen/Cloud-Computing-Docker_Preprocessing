{
 "cells": [
  {
   "cell_type": "code",
   "execution_count": 1,
   "id": "85f741be-e49b-4e0a-88fc-0cbb73dcb883",
   "metadata": {},
   "outputs": [],
   "source": [
    "#importing dependencies\n",
    "import pandas as pd"
   ]
  },
  {
   "cell_type": "code",
   "execution_count": 2,
   "id": "e14b0fce-97b1-4a96-a5b0-881273bb1eff",
   "metadata": {},
   "outputs": [],
   "source": [
    "#importing intended csv file\n",
    "df = pd.read_csv(\"books.csv\")"
   ]
  },
  {
   "cell_type": "code",
   "execution_count": 3,
   "id": "e8cc0fa1-ef9f-4fbf-b1bf-8995681ea3c7",
   "metadata": {},
   "outputs": [],
   "source": [
    "#performing data preprocessing and cleaning\n",
    "df_cleaned = df.dropna(subset=['original_title'])\n",
    "\n",
    "df_cleaned = df_cleaned.drop_duplicates(subset=['original_title'])"
   ]
  },
  {
   "cell_type": "code",
   "execution_count": 7,
   "id": "329306d7-46ed-4f3b-918b-b055a04324cd",
   "metadata": {},
   "outputs": [],
   "source": [
    "#filtering the most selling books out of the Harry Potter Series\n",
    "\n",
    "harry_potter_df = df_cleaned[df_cleaned['original_title'].str.contains('Harry Potter', case=False)]\n",
    "\n",
    "most_selling_books = harry_potter_df.groupby('title')['ratings_count'].max().sort_values(ascending=False).head(5)\n",
    "\n",
    "#Calculating the Average rating of Harry Potter Series\n",
    "average_rating = harry_potter_df['average_rating'].mean()"
   ]
  },
  {
   "cell_type": "code",
   "execution_count": 8,
   "id": "599f21fb-559e-4224-b865-2936ddc82482",
   "metadata": {},
   "outputs": [
    {
     "name": "stdout",
     "output_type": "stream",
     "text": [
      "Most Selling Books within the Harry Potter Series:\n",
      "title\n",
      "Harry Potter and the Sorcerer's Stone (Harry Potter, #1)       4602479\n",
      "Harry Potter and the Prisoner of Azkaban (Harry Potter, #3)    1832823\n",
      "Harry Potter and the Chamber of Secrets (Harry Potter, #2)     1779331\n",
      "Harry Potter and the Goblet of Fire (Harry Potter, #4)         1753043\n",
      "Harry Potter and the Deathly Hallows (Harry Potter, #7)        1746574\n",
      "Name: ratings_count, dtype: int64\n",
      "\n",
      "Average Rating of the Harry Potter Books: 4.4910000000000005\n"
     ]
    }
   ],
   "source": [
    "#Displaying the results\n",
    "print(\"Most Selling Books within the Harry Potter Series:\")\n",
    "print(most_selling_books)\n",
    "print(\"\\nAverage Rating of the Harry Potter Books:\", average_rating)"
   ]
  }
 ],
 "metadata": {
  "kernelspec": {
   "display_name": "Python 3 (ipykernel)",
   "language": "python",
   "name": "python3"
  },
  "language_info": {
   "codemirror_mode": {
    "name": "ipython",
    "version": 3
   },
   "file_extension": ".py",
   "mimetype": "text/x-python",
   "name": "python",
   "nbconvert_exporter": "python",
   "pygments_lexer": "ipython3",
   "version": "3.12.2"
  }
 },
 "nbformat": 4,
 "nbformat_minor": 5
}
